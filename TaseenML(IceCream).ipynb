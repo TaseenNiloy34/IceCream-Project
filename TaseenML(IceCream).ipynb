{
 "cells": [
  {
   "cell_type": "markdown",
   "metadata": {},
   "source": [
    "#### What is a Machine Learning??"
   ]
  },
  {
   "cell_type": "markdown",
   "metadata": {},
   "source": [
    "The various complex definitions of machine learning are given in various scientific research papers or textbooks. We will not go that way. We will learn machine learning in the simplest language. Machine learning means learning or teaching a machine. However, this teaching method is a little different. How do we teach human children? Suppose to teach a small child to look at dogs and cats, we repeatedly show him a picture of a dog or a dog and say \"its name is dog\" and we show the cat \"its name is cat\". After saying this again and again, small children can recognize dogs and cats in different ways at one time. Hold a computer or other machine in the place of a small child, and hold dogs and cats as data. Now with this data, when you identify a machine as a dog or a cat, that is what machine learning is all about."
   ]
  },
  {
   "cell_type": "markdown",
   "metadata": {},
   "source": [
    "#### Types of Machine Learning "
   ]
  },
  {
   "cell_type": "markdown",
   "metadata": {},
   "source": [
    "Basically, three types of Machine Learning can be found: Supervised Learning, Unsupervised Learning, and Reinforcement Learning.\n",
    "\n",
    "\n",
    "* Supervised Learning:<br>\n",
    "Supervised learning is teaching like a human child. In supervised learning the machine is taught by example with label dataset. Supervised learning is an example of how we can teach computers by looking at example of a child and his/ her learning at the beginning of this project. Two types of problems can be solved with supervised learning, for instance Regression and Classification.\n",
    "\n",
    "Regression: \n",
    "Numerical value is predicted through regression. For example, if you want to know how many degrees Celsius the average temperature can be if the humidity of the air is 78 tomorrow.\n",
    "\n",
    "Classification: Different classes are predicted through classification. For example, some of the emails that come to our emails come as spam. The computer can recognize any new mail, whether the mail is normal mail or spam. This is how spam filtering or classification is done. The example I gave of dogs and cats is also a classification.\n",
    "\n",
    "\n",
    "* Unsupervised Learning <br>\n",
    "\n",
    "In the case of unsupervised learning, no predictions are made. In this case, there is no need to teach the machine with label dataset. Unsupervised learning basically identifies different hidden similar groups inside machine data. Suppose a computer from a supermarket customer data will divide customers into different groups based on different features. Maybe those who shop more are in one group and those who shop less are in another group. Maybe those who buy more food and beverages are in one group and those who buy more luxury items are in one group. Through unsupervised learning, the machine thus discovers different groups within the data.\n",
    "\n",
    "* Reinforcement Learning <br>\n",
    "\n",
    "Reinforcement learning is mainly applied in self drive cars, robots in various AI games etc. In this method the machine learns on its own through the goal-reward method. In this case, a goal is set for the machine, if he can achieve it in the right way, he gets a reward, in this way the machine continues to learn, if he works in any way, he will be able to achieve the goal quickly. And thus the efficiency of the machine also increases with time."
   ]
  },
  {
   "cell_type": "markdown",
   "metadata": {},
   "source": [
    "#### What we are going to develop?"
   ]
  },
  {
   "cell_type": "markdown",
   "metadata": {},
   "source": [
    "This dataset is from an ice cream seller's dataset where you can predict how much ice cream will be sold at what temperature.\n",
    "This is a regression problem so you need to do this project by following the steps below.\n",
    "\n",
    "* Step 1: Load the dataset\n",
    "* Step 2: Data Cleaning & Transformation\n",
    "* Step 3: Define the independent and dependent variable \n",
    "* Step 4: Explortory Data Analysis (EDA)\n",
    "* Step 5: Train test split \n",
    "* Step 6: Machine Learning Model\n",
    "* Step 7: Model Evaluation"
   ]
  },
  {
   "cell_type": "markdown",
   "metadata": {},
   "source": [
    "#### Step 1: Load the dataset "
   ]
  },
  {
   "cell_type": "code",
   "execution_count": 1,
   "metadata": {},
   "outputs": [],
   "source": [
    "import pandas as pd\n",
    "url='D:\\icecream.csv'\n",
    "df= pd.read_csv(url)"
   ]
  },
  {
   "cell_type": "markdown",
   "metadata": {},
   "source": [
    "#### Read first 10 columns"
   ]
  },
  {
   "cell_type": "code",
   "execution_count": 2,
   "metadata": {},
   "outputs": [
    {
     "data": {
      "text/html": [
       "<div>\n",
       "<style scoped>\n",
       "    .dataframe tbody tr th:only-of-type {\n",
       "        vertical-align: middle;\n",
       "    }\n",
       "\n",
       "    .dataframe tbody tr th {\n",
       "        vertical-align: top;\n",
       "    }\n",
       "\n",
       "    .dataframe thead th {\n",
       "        text-align: right;\n",
       "    }\n",
       "</style>\n",
       "<table border=\"1\" class=\"dataframe\">\n",
       "  <thead>\n",
       "    <tr style=\"text-align: right;\">\n",
       "      <th></th>\n",
       "      <th>Date</th>\n",
       "      <th>Tem</th>\n",
       "      <th>Sold</th>\n",
       "    </tr>\n",
       "  </thead>\n",
       "  <tbody>\n",
       "    <tr>\n",
       "      <th>0</th>\n",
       "      <td>1_Jan</td>\n",
       "      <td>30</td>\n",
       "      <td>110</td>\n",
       "    </tr>\n",
       "    <tr>\n",
       "      <th>1</th>\n",
       "      <td>2_Jan</td>\n",
       "      <td>38</td>\n",
       "      <td>140</td>\n",
       "    </tr>\n",
       "    <tr>\n",
       "      <th>2</th>\n",
       "      <td>3_Jan</td>\n",
       "      <td>37</td>\n",
       "      <td>200</td>\n",
       "    </tr>\n",
       "    <tr>\n",
       "      <th>3</th>\n",
       "      <td>4_Jan</td>\n",
       "      <td>25</td>\n",
       "      <td>90</td>\n",
       "    </tr>\n",
       "    <tr>\n",
       "      <th>4</th>\n",
       "      <td>5_Jan</td>\n",
       "      <td>33</td>\n",
       "      <td>170</td>\n",
       "    </tr>\n",
       "    <tr>\n",
       "      <th>5</th>\n",
       "      <td>6_Jan</td>\n",
       "      <td>38</td>\n",
       "      <td>200</td>\n",
       "    </tr>\n",
       "    <tr>\n",
       "      <th>6</th>\n",
       "      <td>7_Jan</td>\n",
       "      <td>24</td>\n",
       "      <td>70</td>\n",
       "    </tr>\n",
       "    <tr>\n",
       "      <th>7</th>\n",
       "      <td>8_Jan</td>\n",
       "      <td>37</td>\n",
       "      <td>190</td>\n",
       "    </tr>\n",
       "    <tr>\n",
       "      <th>8</th>\n",
       "      <td>9_Jan</td>\n",
       "      <td>39</td>\n",
       "      <td>200</td>\n",
       "    </tr>\n",
       "    <tr>\n",
       "      <th>9</th>\n",
       "      <td>10_Jan</td>\n",
       "      <td>39</td>\n",
       "      <td>220</td>\n",
       "    </tr>\n",
       "  </tbody>\n",
       "</table>\n",
       "</div>"
      ],
      "text/plain": [
       "     Date  Tem  Sold\n",
       "0   1_Jan   30   110\n",
       "1   2_Jan   38   140\n",
       "2   3_Jan   37   200\n",
       "3   4_Jan   25    90\n",
       "4   5_Jan   33   170\n",
       "5   6_Jan   38   200\n",
       "6   7_Jan   24    70\n",
       "7   8_Jan   37   190\n",
       "8   9_Jan   39   200\n",
       "9  10_Jan   39   220"
      ]
     },
     "execution_count": 2,
     "metadata": {},
     "output_type": "execute_result"
    }
   ],
   "source": [
    "df.head(10)"
   ]
  },
  {
   "cell_type": "markdown",
   "metadata": {},
   "source": [
    "#### Step 2: Data Cleaning & Transformation"
   ]
  },
  {
   "cell_type": "code",
   "execution_count": 3,
   "metadata": {},
   "outputs": [
    {
     "data": {
      "text/plain": [
       "Date    0\n",
       "Tem     0\n",
       "Sold    0\n",
       "dtype: int64"
      ]
     },
     "execution_count": 3,
     "metadata": {},
     "output_type": "execute_result"
    }
   ],
   "source": [
    "#We will check whether is there any missing values in our dataset. It has to be removed if it is found. Moreover, in this case of dataset, we don't require to data transformation\n",
    "df.isnull().sum() "
   ]
  },
  {
   "cell_type": "markdown",
   "metadata": {},
   "source": [
    "#### Step 3: Define the independent and dependent features/ variable  "
   ]
  },
  {
   "cell_type": "code",
   "execution_count": 4,
   "metadata": {},
   "outputs": [],
   "source": [
    "a= df[['Tem']]\n",
    "b= df[['Sold']]"
   ]
  },
  {
   "cell_type": "markdown",
   "metadata": {},
   "source": [
    "#### Check the data shape "
   ]
  },
  {
   "cell_type": "code",
   "execution_count": 5,
   "metadata": {},
   "outputs": [
    {
     "data": {
      "text/plain": [
       "(12, 3)"
      ]
     },
     "execution_count": 5,
     "metadata": {},
     "output_type": "execute_result"
    }
   ],
   "source": [
    "df.shape"
   ]
  },
  {
   "cell_type": "markdown",
   "metadata": {},
   "source": [
    "#### Step 4(a):  Explortory Data Analysis (Scatter plot)"
   ]
  },
  {
   "cell_type": "markdown",
   "metadata": {},
   "source": [
    "Firstly, we will find out the pattern of the data. In order to develop any types of machine learning model, the data pattern is required to be identified. In this case of Ice cream selling dataset, we will check first whether our dataset is linear or non-linear. "
   ]
  },
  {
   "cell_type": "code",
   "execution_count": 6,
   "metadata": {},
   "outputs": [
    {
     "data": {
      "text/plain": [
       "<matplotlib.collections.PathCollection at 0x1d634c34910>"
      ]
     },
     "execution_count": 6,
     "metadata": {},
     "output_type": "execute_result"
    },
    {
     "data": {
      "image/png": "[encoded data removed]",
      "text/plain": [
       "<Figure size 432x288 with 1 Axes>"
      ]
     },
     "metadata": {
      "needs_background": "light"
     },
     "output_type": "display_data"
    }
   ],
   "source": [
    "%matplotlib inline\n",
    "import matplotlib.pyplot as plt\n",
    "plt.xlabel('Temperature')\n",
    "plt.ylabel('Sold')\n",
    "plt.scatter(df.Tem, df.Sold, color='red',marker='+')"
   ]
  },
  {
   "cell_type": "markdown",
   "metadata": {},
   "source": [
    "Observation: By looking at the scatter plot, it can be clearly observed that our dataset can be seperated linearly.\n",
    "The dot(.) point is our data point and it is explained whether all data point is linearly seperated.So we are going to handle the linear regression problem."
   ]
  },
  {
   "cell_type": "markdown",
   "metadata": {},
   "source": [
    "#### Step 4 (b):  Explortory Data Analysis (Regression plot)"
   ]
  },
  {
   "cell_type": "code",
   "execution_count": 7,
   "metadata": {},
   "outputs": [
    {
     "data": {
      "text/plain": [
       "<AxesSubplot:xlabel='Tem', ylabel='Sold'>"
      ]
     },
     "execution_count": 7,
     "metadata": {},
     "output_type": "execute_result"
    },
    {
     "data": {
      "image/png": "[encoded data removed]",
      "text/plain": [
       "<Figure size 432x288 with 1 Axes>"
      ]
     },
     "metadata": {
      "needs_background": "light"
     },
     "output_type": "display_data"
    }
   ],
   "source": [
    "import seaborn as sns #Seaborn is a library that give access to make various types of plotting. In data visualization, seaborn is called the mother of Data Visualization library.\n",
    "sns.regplot(x= df.Tem, y=df.Sold)"
   ]
  },
  {
   "cell_type": "markdown",
   "metadata": {},
   "source": [
    "Observation: By lookint at the regression plot, All data points are linearly separated except for the 38 no Data Point. So, we clear that the dataset we are working it is belongs to the regression problem."
   ]
  },
  {
   "cell_type": "markdown",
   "metadata": {},
   "source": [
    "#### Step 5: Split Dataset for Train and Test"
   ]
  },
  {
   "cell_type": "code",
   "execution_count": 8,
   "metadata": {},
   "outputs": [],
   "source": [
    "#First import the library for train_test_split\n",
    "from sklearn.model_selection import train_test_split"
   ]
  },
  {
   "cell_type": "code",
   "execution_count": 9,
   "metadata": {},
   "outputs": [],
   "source": [
    "a_train, a_test, b_train, b_test= train_test_split(a,b, test_size= 0.2)#test_size=0.2 shows that we have allocated 80% train and 20% for test"
   ]
  },
  {
   "cell_type": "markdown",
   "metadata": {},
   "source": [
    "#### Check the train and test shape whether we have allocated properly"
   ]
  },
  {
   "cell_type": "code",
   "execution_count": 10,
   "metadata": {},
   "outputs": [
    {
     "data": {
      "text/plain": [
       "(9, 1)"
      ]
     },
     "execution_count": 10,
     "metadata": {},
     "output_type": "execute_result"
    }
   ],
   "source": [
    "a_train.shape"
   ]
  },
  {
   "cell_type": "code",
   "execution_count": 11,
   "metadata": {},
   "outputs": [
    {
     "data": {
      "text/plain": [
       "(9, 1)"
      ]
     },
     "execution_count": 11,
     "metadata": {},
     "output_type": "execute_result"
    }
   ],
   "source": [
    "b_train.shape"
   ]
  },
  {
   "cell_type": "code",
   "execution_count": 12,
   "metadata": {},
   "outputs": [
    {
     "data": {
      "text/plain": [
       "(3, 1)"
      ]
     },
     "execution_count": 12,
     "metadata": {},
     "output_type": "execute_result"
    }
   ],
   "source": [
    "a_test.shape"
   ]
  },
  {
   "cell_type": "code",
   "execution_count": 13,
   "metadata": {},
   "outputs": [
    {
     "data": {
      "text/plain": [
       "(3, 1)"
      ]
     },
     "execution_count": 13,
     "metadata": {},
     "output_type": "execute_result"
    }
   ],
   "source": [
    "b_test.shape"
   ]
  },
  {
   "cell_type": "markdown",
   "metadata": {},
   "source": [
    "#### Step 6: Machine Learning Model"
   ]
  },
  {
   "cell_type": "code",
   "execution_count": 14,
   "metadata": {},
   "outputs": [
    {
     "data": {
      "text/plain": [
       "LinearRegression()"
      ]
     },
     "execution_count": 14,
     "metadata": {},
     "output_type": "execute_result"
    }
   ],
   "source": [
    "from sklearn.linear_model import LinearRegression\n",
    "lin_reg= LinearRegression()\n",
    "lin_reg.fit(a_train, b_train)"
   ]
  },
  {
   "cell_type": "markdown",
   "metadata": {},
   "source": [
    "#### Prediction"
   ]
  },
  {
   "cell_type": "markdown",
   "metadata": {},
   "source": [
    "Our model is ready. Now we will predict how much ice cream will sell based on the particular temperature."
   ]
  },
  {
   "cell_type": "code",
   "execution_count": 15,
   "metadata": {},
   "outputs": [
    {
     "data": {
      "text/plain": [
       "array([[35.52310818]])"
      ]
     },
     "execution_count": 15,
     "metadata": {},
     "output_type": "execute_result"
    }
   ],
   "source": [
    "new_observation = [[20]]\n",
    "lin_reg.predict(new_observation)"
   ]
  },
  {
   "cell_type": "markdown",
   "metadata": {},
   "source": [
    "#### Take the user input"
   ]
  },
  {
   "cell_type": "code",
   "execution_count": 16,
   "metadata": {},
   "outputs": [
    {
     "name": "stdout",
     "output_type": "stream",
     "text": [
      "To know the Number of Ice-cream that could be sold,Enter the Temperature in degree (upto 20 degree) : 20\n",
      "So in 20  degree Temperature = 35.52310817673941  Tk Ice-cream could be sold\n"
     ]
    }
   ],
   "source": [
    "x=input('To know the Number of Ice-cream that could be sold,Enter the Temperature in degree (upto 20 degree) : ')\n",
    "\n",
    "import numpy as np \n",
    "array = np.array(x) #input converted into 1 dimentional array\n",
    "fvalu = array.astype(np.float) # 1 dimentional array into 1 dimentional float array\n",
    "fvalu_2D=([[fvalu]]) # 1 dimentional array to 2 dimentional array\n",
    "#print(fvalu_2D)\n",
    "\n",
    "my_prediction=lin_reg.predict(fvalu_2D)\n",
    "#print(my_prediction)\n",
    "\n",
    "#price=np.asscalar(np.array(my_prediction)) #convert vector into scalar using this one line only\n",
    "\n",
    "#convert vector into scalar using below two lines\n",
    "price=np.array(my_prediction) \n",
    "price=price.item()\n",
    "\n",
    "print('So in',x,' degree Temperature =',price ,' Tk Ice-cream could be sold')"
   ]
  },
  {
   "cell_type": "markdown",
   "metadata": {},
   "source": [
    "#### Check the models accuracy"
   ]
  },
  {
   "cell_type": "code",
   "execution_count": 17,
   "metadata": {},
   "outputs": [
    {
     "data": {
      "text/plain": [
       "0.3320271753555981"
      ]
     },
     "execution_count": 17,
     "metadata": {},
     "output_type": "execute_result"
    }
   ],
   "source": [
    "lin_reg.score(a_test, b_test)"
   ]
  },
  {
   "cell_type": "markdown",
   "metadata": {},
   "source": [
    "#### Model Evaluation "
   ]
  },
  {
   "cell_type": "markdown",
   "metadata": {},
   "source": [
    "Now we need to see how accurate the model has predicted, so we need to diagnose the error. The lower the error of the model, the better the model performs. The following things can be found to identify the error of the regression model.\n",
    "\n",
    "* Mean Absolute Error (MAE) - Absolute value average of error\n",
    "* Mean Squared Error (MSE) - The average value of the square of the error\n",
    "* Root Mean Squared Error (RMSE) - The square root of MSE\n",
    "* Relative Absolute Error (RAE) - The ratio of the Absolute to the error\n",
    "* Relative Squared Error (RSE) - The square ratio of the Absolute to the error\n",
    "* R Squared Error- 1-RSE"
   ]
  },
  {
   "cell_type": "code",
   "execution_count": 18,
   "metadata": {},
   "outputs": [
    {
     "name": "stdout",
     "output_type": "stream",
     "text": [
      "Coefficients: [[9.2813611]]\n",
      "Intercept: [-150.10411376]\n",
      "MAE: 29.68511934992381\n",
      "MSE: 1439.8525331223773\n",
      "RMSE: 37.94538882555267\n",
      "AccuracyII: 33.20271753555981 %\n",
      "R2: 0.3320271753555981\n"
     ]
    }
   ],
   "source": [
    "from sklearn.metrics import r2_score\n",
    "from sklearn import metrics\n",
    "import numpy as np\n",
    "\n",
    "predictions = lin_reg.predict(a_test)\n",
    "print('Coefficients:', lin_reg.coef_)\n",
    "print('Intercept:', lin_reg.intercept_)\n",
    "print('MAE:', metrics.mean_absolute_error(b_test, predictions))\n",
    "print('MSE:', metrics.mean_squared_error(b_test, predictions))\n",
    "print('RMSE:', np.sqrt(metrics.mean_squared_error(b_test, predictions)))\n",
    "accuracy = lin_reg.score(a_test,b_test)\n",
    "print('AccuracyII:',accuracy*100,'%')\n",
    "print('R2:', r2_score(b_test, predictions))"
   ]
  },
  {
   "cell_type": "code",
   "execution_count": null,
   "metadata": {},
   "outputs": [],
   "source": []
  }
 ],
 "metadata": {
  "kernelspec": {
   "display_name": "Python 3",
   "language": "python",
   "name": "python3"
  },
  "language_info": {
   "codemirror_mode": {
    "name": "ipython",
    "version": 3
   },
   "file_extension": ".py",
   "mimetype": "text/x-python",
   "name": "python",
   "nbconvert_exporter": "python",
   "pygments_lexer": "ipython3",
   "version": "3.8.5"
  }
 },
 "nbformat": 4,
 "nbformat_minor": 4
}
